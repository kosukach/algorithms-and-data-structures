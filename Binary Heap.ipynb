{
 "cells": [
  {
   "cell_type": "code",
   "execution_count": 161,
   "metadata": {},
   "outputs": [],
   "source": [
    "\n",
    "class Heap(object):\n",
    "    \n",
    "    def __init__(self, size):\n",
    "        self.array = [0]*size;\n",
    "        self.currentPosition = -1\n",
    "        \n",
    "    def insert(self, data):\n",
    "        if len(self.array) == self.currentPosition + 1:\n",
    "            print(\"heap full\");\n",
    "            return;\n",
    "        self.currentPosition = self.currentPosition + 1;\n",
    "        \n",
    "        self.array[self.currentPosition] = data;\n",
    "        self.bubbleUp(self.currentPosition);\n",
    "    \n",
    "    def bubbleUp(self, position):\n",
    "        parentIndex = int((position - 1 )/2)\n",
    "        if parentIndex >= 0 and self.array[int((position - 1)/2)] > self.array[position]:\n",
    "                \n",
    "                tempVal = self.array[position];\n",
    "                self.array[position] = self.array[parentIndex];\n",
    "                self.array[parentIndex] = tempVal;\n",
    "                self.bubbleUp(parentIndex);\n",
    "       \n",
    "           \n",
    "        return;\n",
    "    \n",
    "    def heapsort(self):\n",
    "        for i in range(0, self.currentPosition):\n",
    "           \n",
    "            tempVal = self.array[0];\n",
    "            self.array[0] = self.array[self.currentPosition - i];\n",
    "            self.array[self.currentPosition - i] = tempVal;\n",
    "            \n",
    "            self.bubbleDown(0, self.currentPosition - i - 1);\n",
    "            \n",
    "            \n",
    "    def bubbleDown(self, position, cap):\n",
    "        cpos = None\n",
    "        leftChild = position*2 + 1;\n",
    "        rightChild = position*2 + 2;\n",
    "        if leftChild <= cap and rightChild <= cap and min(self.array[leftChild], self.array[position*2 + 2]) < self.array[position]:\n",
    "            if self.array[leftChild] <= self.array[rightChild]:\n",
    "                cpos = leftChild\n",
    "                \n",
    "            else: \n",
    "                cpos = rightChild\n",
    "                \n",
    "        elif leftChild <= cap and self.array[leftChild] < self.array[position]:\n",
    "                cpos = leftChild\n",
    "               \n",
    "        elif rightChild <= cap and self.array[rightChild] < self.array[position]:\n",
    "                cpos = rightChild\n",
    "        if cpos :\n",
    "            \n",
    "            tempVal = self.array[position];\n",
    "            self.array[position] = self.array[cpos];\n",
    "            self.array[cpos] = tempVal;\n",
    "            \n",
    "            self.bubbleDown(cpos, cap);     \n",
    "        \n",
    "        return;\n",
    "heap = Heap(10);"
   ]
  },
  {
   "cell_type": "code",
   "execution_count": 162,
   "metadata": {},
   "outputs": [],
   "source": [
    "heap.insert(1)"
   ]
  },
  {
   "cell_type": "code",
   "execution_count": 163,
   "metadata": {},
   "outputs": [],
   "source": [
    "heap.insert(2)"
   ]
  },
  {
   "cell_type": "code",
   "execution_count": 164,
   "metadata": {},
   "outputs": [],
   "source": [
    "heap.insert(3)"
   ]
  },
  {
   "cell_type": "code",
   "execution_count": 165,
   "metadata": {},
   "outputs": [],
   "source": [
    "heap.insert(-1)"
   ]
  },
  {
   "cell_type": "code",
   "execution_count": 166,
   "metadata": {},
   "outputs": [
    {
     "data": {
      "text/plain": [
       "[-1, 1, 3, 2, 0, 0, 0, 0, 0, 0]"
      ]
     },
     "execution_count": 166,
     "metadata": {},
     "output_type": "execute_result"
    }
   ],
   "source": [
    "heap.array"
   ]
  },
  {
   "cell_type": "code",
   "execution_count": 167,
   "metadata": {},
   "outputs": [],
   "source": [
    "heap.heapsort()"
   ]
  },
  {
   "cell_type": "code",
   "execution_count": 168,
   "metadata": {},
   "outputs": [
    {
     "data": {
      "text/plain": [
       "[3, 2, 1, -1, 0, 0, 0, 0, 0, 0]"
      ]
     },
     "execution_count": 168,
     "metadata": {},
     "output_type": "execute_result"
    }
   ],
   "source": [
    "heap.array"
   ]
  },
  {
   "cell_type": "code",
   "execution_count": null,
   "metadata": {},
   "outputs": [],
   "source": []
  },
  {
   "cell_type": "code",
   "execution_count": null,
   "metadata": {},
   "outputs": [],
   "source": []
  },
  {
   "cell_type": "code",
   "execution_count": null,
   "metadata": {},
   "outputs": [],
   "source": []
  },
  {
   "cell_type": "code",
   "execution_count": null,
   "metadata": {},
   "outputs": [],
   "source": []
  },
  {
   "cell_type": "code",
   "execution_count": null,
   "metadata": {},
   "outputs": [],
   "source": []
  },
  {
   "cell_type": "code",
   "execution_count": null,
   "metadata": {},
   "outputs": [],
   "source": []
  },
  {
   "cell_type": "code",
   "execution_count": null,
   "metadata": {},
   "outputs": [],
   "source": []
  },
  {
   "cell_type": "code",
   "execution_count": null,
   "metadata": {},
   "outputs": [],
   "source": []
  },
  {
   "cell_type": "code",
   "execution_count": null,
   "metadata": {},
   "outputs": [],
   "source": []
  },
  {
   "cell_type": "code",
   "execution_count": null,
   "metadata": {},
   "outputs": [],
   "source": []
  },
  {
   "cell_type": "code",
   "execution_count": null,
   "metadata": {},
   "outputs": [],
   "source": []
  },
  {
   "cell_type": "code",
   "execution_count": null,
   "metadata": {},
   "outputs": [],
   "source": []
  }
 ],
 "metadata": {
  "kernelspec": {
   "display_name": "Python 3",
   "language": "python",
   "name": "python3"
  },
  "language_info": {
   "codemirror_mode": {
    "name": "ipython",
    "version": 3
   },
   "file_extension": ".py",
   "mimetype": "text/x-python",
   "name": "python",
   "nbconvert_exporter": "python",
   "pygments_lexer": "ipython3",
   "version": "3.7.3"
  }
 },
 "nbformat": 4,
 "nbformat_minor": 2
}
