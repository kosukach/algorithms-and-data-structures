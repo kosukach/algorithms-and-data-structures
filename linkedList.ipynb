{
 "cells": [
  {
   "cell_type": "code",
   "execution_count": 92,
   "metadata": {},
   "outputs": [],
   "source": [
    "class Node(object):\n",
    "    def __init__(self, data):\n",
    "        self.data = data;\n",
    "        self.nextNode = None;\n",
    "        \n",
    "        \n",
    "        \n",
    "class LinkedList(object):\n",
    "    def __init__(self):\n",
    "        self.head = None;\n",
    "        self.size = 0;\n",
    "    def insertStart(self, data):\n",
    "        #O(1)\n",
    "        self.size = self.size + 1;\n",
    "        newNode = Node(data);\n",
    "        newNode.nextNode = self.head;\n",
    "        self.head = newNode;\n",
    "    \n",
    "    def size1(self):\n",
    "        #O(1)\n",
    "        return self.size;\n",
    "    def size2(self):\n",
    "        #O(N)\n",
    "        currentNode = self.head;\n",
    "        size = 0;\n",
    "        while currentNode is not None:\n",
    "            size = size + 1;\n",
    "            currentNode = currentNode.nextNode;\n",
    "        return size;\n",
    "    \n",
    "        \n",
    "    def traverse(self):\n",
    "        currentNode = self.head;\n",
    "        while currentNode is not None:\n",
    "            print(\"%d\" % currentNode.data);\n",
    "            currentNode = currentNode.nextNode;\n",
    "        \n",
    "        \n",
    "    def insertEnd(self, data):\n",
    "        #O(N)\n",
    "        newNode = Node(data);\n",
    "        currentNode = self.head;\n",
    "        while currentNode.nextNode is not None:\n",
    "            currentNode = currentNode.nextNode;\n",
    "            \n",
    "        currentNode.nextNode = newNode;\n",
    "        self.size = self.size + 1;\n",
    "        \n",
    "    def remove(self, data):\n",
    "        if self.head is None:\n",
    "            return;\n",
    "        currentNode = self.head;\n",
    "        previousNode = None;\n",
    "        while currentNode.data != data:\n",
    "            previousNode = currentNode;\n",
    "            currentNode = currentNode.nextNode;\n",
    "            \n",
    "        if previousNode is None:    \n",
    "            self.head = currentNode.nextNode;\n",
    "        else:\n",
    "            previousNode.nextNode = currentNode.nextNode;    \n",
    "        \n",
    "        self.size = self.size - 1;\n",
    "        \n"
   ]
  },
  {
   "cell_type": "code",
   "execution_count": null,
   "metadata": {},
   "outputs": [],
   "source": []
  },
  {
   "cell_type": "code",
   "execution_count": 93,
   "metadata": {},
   "outputs": [],
   "source": [
    "\n",
    "linkedList = LinkedList();\n",
    "linkedList.insertStart(12);\n",
    "linkedList.insertStart(122);\n",
    "linkedList.insertStart(3);\n",
    "linkedList.insertEnd(31);\n"
   ]
  },
  {
   "cell_type": "code",
   "execution_count": 94,
   "metadata": {},
   "outputs": [
    {
     "name": "stdout",
     "output_type": "stream",
     "text": [
      "3\n",
      "122\n",
      "12\n",
      "31\n"
     ]
    }
   ],
   "source": [
    "linkedList.traverse()"
   ]
  },
  {
   "cell_type": "code",
   "execution_count": 95,
   "metadata": {},
   "outputs": [
    {
     "name": "stdout",
     "output_type": "stream",
     "text": [
      "4\n"
     ]
    }
   ],
   "source": [
    "print(linkedList.size1())"
   ]
  },
  {
   "cell_type": "code",
   "execution_count": 96,
   "metadata": {},
   "outputs": [],
   "source": [
    "linkedList.remove(12);\n",
    "linkedList.remove(3);\n",
    "linkedList.remove(122);\n",
    "linkedList.remove(31);"
   ]
  },
  {
   "cell_type": "code",
   "execution_count": 97,
   "metadata": {},
   "outputs": [],
   "source": [
    "linkedList.traverse()"
   ]
  },
  {
   "cell_type": "code",
   "execution_count": null,
   "metadata": {},
   "outputs": [],
   "source": []
  }
 ],
 "metadata": {
  "kernelspec": {
   "display_name": "Python 3",
   "language": "python",
   "name": "python3"
  },
  "language_info": {
   "codemirror_mode": {
    "name": "ipython",
    "version": 3
   },
   "file_extension": ".py",
   "mimetype": "text/x-python",
   "name": "python",
   "nbconvert_exporter": "python",
   "pygments_lexer": "ipython3",
   "version": "3.7.3"
  }
 },
 "nbformat": 4,
 "nbformat_minor": 2
}
