{
 "cells": [
  {
   "cell_type": "code",
   "execution_count": 2,
   "metadata": {},
   "outputs": [],
   "source": [
    "class Node(object):\n",
    "    def __init__(self, name):\n",
    "        self.name = name;\n",
    "        self.adjacent = [];\n",
    "        self.visited = False;\n",
    "\n",
    "def dfs(vertex): #O(log n) memory complexity ;;;bfs has O(n)\n",
    "    vertex.visited = True;\n",
    "    print(vertex.name);\n",
    "    \n",
    "    for v in vertex.adjacent:\n",
    "        if not v.visited:\n",
    "            dfs(v);"
   ]
  },
  {
   "cell_type": "code",
   "execution_count": 3,
   "metadata": {},
   "outputs": [],
   "source": [
    "node1 = Node(\"A\");\n",
    "node2 = Node(\"B\");\n",
    "node3 = Node(\"C\");\n",
    "node4 = Node(\"D\");\n",
    "node5= Node(\"E\");\n",
    "\n",
    "\n",
    "node1.adjacent.append(node2);\n",
    "node1.adjacent.append(node3);\n",
    "node2.adjacent.append(node4);\n",
    "node4.adjacent.append(node5);"
   ]
  },
  {
   "cell_type": "code",
   "execution_count": 4,
   "metadata": {},
   "outputs": [
    {
     "name": "stdout",
     "output_type": "stream",
     "text": [
      "A\n",
      "B\n",
      "D\n",
      "E\n",
      "C\n"
     ]
    }
   ],
   "source": [
    "dfs(node1)"
   ]
  },
  {
   "cell_type": "code",
   "execution_count": null,
   "metadata": {},
   "outputs": [],
   "source": []
  }
 ],
 "metadata": {
  "kernelspec": {
   "display_name": "Python 3",
   "language": "python",
   "name": "python3"
  },
  "language_info": {
   "codemirror_mode": {
    "name": "ipython",
    "version": 3
   },
   "file_extension": ".py",
   "mimetype": "text/x-python",
   "name": "python",
   "nbconvert_exporter": "python",
   "pygments_lexer": "ipython3",
   "version": "3.7.3"
  }
 },
 "nbformat": 4,
 "nbformat_minor": 2
}
