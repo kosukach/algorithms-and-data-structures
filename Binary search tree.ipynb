{
 "cells": [
  {
   "cell_type": "code",
   "execution_count": 6,
   "metadata": {},
   "outputs": [],
   "source": [
    "class Node(object):\n",
    "    def __init__(self, data):\n",
    "        self.data = data\n",
    "        self.leftChild = None;\n",
    "        self.rightChild = None;\n",
    "\n",
    "\n",
    "\n"
   ]
  },
  {
   "cell_type": "code",
   "execution_count": 107,
   "metadata": {},
   "outputs": [],
   "source": [
    "class Tree(object):\n",
    "    def __init__(self):\n",
    "        self.root = None;\n",
    "       \n",
    "        \n",
    "    def insert(self, data):\n",
    "        \n",
    "        if self.root is None:\n",
    "            \n",
    "            self.root = Node(data);\n",
    "            \n",
    "        else:\n",
    "            \n",
    "            self.insertNode(data, self.root);\n",
    "            \n",
    "            \n",
    "    def insertNode(self, data, node):\n",
    "        if data > node.data:\n",
    "            if node.rightChild:\n",
    "                self.insertNode(data, node.rightChild);\n",
    "            else:\n",
    "                node.rightChild = Node(data);\n",
    "        \n",
    "        else:\n",
    "            if node.leftChild:\n",
    "                self.insertNode(data, node.leftChild);\n",
    "            else:\n",
    "                node.leftChild = Node(data);\n",
    "    def getMin(self):\n",
    "        if self.root:\n",
    "            return self.travMin(self.root);\n",
    "        \n",
    "    def travMin(self, node):\n",
    "        if node.leftChild:\n",
    "            return self.travMin(node.leftChild);\n",
    "        else:\n",
    "            return node.data;\n",
    "            \n",
    "            \n",
    "    def getMax(self):\n",
    "        if self.root:\n",
    "            return self.travMax(self.root);\n",
    "        \n",
    "    def travMax(self, node):\n",
    "        if node.rightChild:\n",
    "            return self.travMax(node.rightChild);\n",
    "        else:\n",
    "            return node.data;\n",
    "    def traverse(self):\n",
    "        if self.root:\n",
    "            self.InOrd(self.root);\n",
    "    def InOrd(self, node):\n",
    "        if node.leftChild:\n",
    "            self.InOrd(node.leftChild);\n",
    "        print(\"%d\" % node.data);\n",
    "        \n",
    "        if node.rightChild:\n",
    "            self.InOrd(node.rightChild);\n",
    "            \n",
    "    def remove(self, data):\n",
    "        if self.root:\n",
    "            self.removeNode(self.root, data);\n",
    "            \n",
    "    def removeNode(self, node, data):\n",
    "        \n",
    "        if not node:\n",
    "            return node;\n",
    "        \n",
    "        if data > node.data:\n",
    "            node.rightChild = self.removeNode(node.rightChild, data);\n",
    "        \n",
    "        elif data < node.data:\n",
    "            node.leftChild = self.removeNode(node.leftChild, data);\n",
    "            \n",
    "        else:\n",
    "            if node.rightChild and node.leftChild:\n",
    "                data = self.fetchPredecessor(node.leftChild);\n",
    "                node.data = data;\n",
    "                node.leftChild = self.removeNode(node.leftChild, data);\n",
    "               \n",
    "            \n",
    "            elif node.leftChild:\n",
    "                tempNode = node.leftChild;\n",
    "                del node;\n",
    "                return tempNode;\n",
    "            \n",
    "            elif node.rightChild:\n",
    "                tempNode = node.rightChild;\n",
    "                del node;\n",
    "                return tempNode;\n",
    "            \n",
    "            else:\n",
    "                print(\"removing leaf\");\n",
    "                del node;\n",
    "                return None;\n",
    "            \n",
    "        return node;\n",
    "    def fetchPredecessor(self, node):\n",
    "            if node.rightChild:\n",
    "                return self.fetchPredecessor(node.rightChild);\n",
    "            \n",
    "            return node.data;\n",
    "   "
   ]
  },
  {
   "cell_type": "code",
   "execution_count": 108,
   "metadata": {},
   "outputs": [],
   "source": [
    "tree = Tree();\n",
    "tree.insert(39);\n",
    "tree.insert(10);\n",
    "tree.insert(50);\n",
    "tree.insert(1);\n",
    "tree.insert(19);\n",
    "tree.insert(23);\n",
    "\n",
    "tree.insert(79);\n",
    "\n",
    "\n",
    "\n"
   ]
  },
  {
   "cell_type": "code",
   "execution_count": 109,
   "metadata": {},
   "outputs": [
    {
     "name": "stdout",
     "output_type": "stream",
     "text": [
      "removing leaf\n"
     ]
    }
   ],
   "source": [
    "tree.remove(10)"
   ]
  },
  {
   "cell_type": "code",
   "execution_count": 110,
   "metadata": {},
   "outputs": [
    {
     "name": "stdout",
     "output_type": "stream",
     "text": [
      "1\n",
      "19\n",
      "23\n",
      "39\n",
      "50\n",
      "79\n"
     ]
    }
   ],
   "source": [
    "tree.traverse()"
   ]
  },
  {
   "cell_type": "code",
   "execution_count": null,
   "metadata": {},
   "outputs": [],
   "source": []
  }
 ],
 "metadata": {
  "kernelspec": {
   "display_name": "Python 3",
   "language": "python",
   "name": "python3"
  },
  "language_info": {
   "codemirror_mode": {
    "name": "ipython",
    "version": 3
   },
   "file_extension": ".py",
   "mimetype": "text/x-python",
   "name": "python",
   "nbconvert_exporter": "python",
   "pygments_lexer": "ipython3",
   "version": "3.7.3"
  }
 },
 "nbformat": 4,
 "nbformat_minor": 2
}
