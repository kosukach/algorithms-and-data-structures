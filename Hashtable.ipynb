{
 "cells": [
  {
   "cell_type": "code",
   "execution_count": 13,
   "metadata": {},
   "outputs": [],
   "source": [
    "class Hashtable(object):\n",
    "    def __init__(self):\n",
    "        self.size = 10;\n",
    "        self.keys = [None]*10;\n",
    "        self.values = [None]*10;\n",
    "        \n",
    "    def hashFunc(self, key):\n",
    "        count = 0;\n",
    "        for pos in range(len(key)):\n",
    "            count = count + ord(key[pos]) \n",
    "        \n",
    "        return count%self.size;    \n",
    "    \n",
    "    def put(self, key, value):\n",
    "        \n",
    "        index = self.hashFunc(key);\n",
    "        while self.keys[index] is not None:\n",
    "            if self.keys[index] == key:\n",
    "                self.values[index] = value;\n",
    "                return;\n",
    "            index = (index + 1) % self.size;\n",
    "        self.keys[index] = key;\n",
    "        self.values[index] = value;\n",
    "        \n",
    "    def get(self, key):\n",
    "        index = self.hashFunc(key);\n",
    "        \n",
    "        while self.keys[index] is not None:\n",
    "            if self.keys[index] == key:\n",
    "                return self.values[index];\n",
    "            \n",
    "            index = (index + 1) % self.size;\n",
    "        return;"
   ]
  },
  {
   "cell_type": "code",
   "execution_count": 14,
   "metadata": {},
   "outputs": [],
   "source": [
    "table = Hashtable();"
   ]
  },
  {
   "cell_type": "code",
   "execution_count": 15,
   "metadata": {},
   "outputs": [],
   "source": [
    "table.put(\"apples\", 10);\n",
    "table.put(\"ni\", 112);\n",
    "table.put(\"ass\", 121212);\n",
    "table.put(\"makrti\", 1);"
   ]
  },
  {
   "cell_type": "code",
   "execution_count": 20,
   "metadata": {},
   "outputs": [
    {
     "name": "stdout",
     "output_type": "stream",
     "text": [
      "121212\n"
     ]
    }
   ],
   "source": [
    "print(table.get(\"ass\"))"
   ]
  },
  {
   "cell_type": "code",
   "execution_count": null,
   "metadata": {},
   "outputs": [],
   "source": []
  }
 ],
 "metadata": {
  "kernelspec": {
   "display_name": "Python 3",
   "language": "python",
   "name": "python3"
  },
  "language_info": {
   "codemirror_mode": {
    "name": "ipython",
    "version": 3
   },
   "file_extension": ".py",
   "mimetype": "text/x-python",
   "name": "python",
   "nbconvert_exporter": "python",
   "pygments_lexer": "ipython3",
   "version": "3.7.3"
  }
 },
 "nbformat": 4,
 "nbformat_minor": 2
}
