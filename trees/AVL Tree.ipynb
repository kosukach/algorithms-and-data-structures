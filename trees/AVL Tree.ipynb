{
 "cells": [
  {
   "cell_type": "code",
   "execution_count": 121,
   "metadata": {},
   "outputs": [],
   "source": [
    "class Node(object):\n",
    "    \n",
    "    def __init__(self, data):\n",
    "        self.leftChild = None;\n",
    "        self.rightChild = None;\n",
    "        self.data = data;\n",
    "        self.height = 0;\n",
    "        \n",
    "class AVL(object):\n",
    "    \n",
    "    def __init__(self):\n",
    "        self.root = None;\n",
    "        \n",
    "        \n",
    "    def getHeight(self, node):\n",
    "        if not node:\n",
    "            return -1;\n",
    "        \n",
    "        return node.height;\n",
    "    def calcBalance(self, node):\n",
    "        if not node:\n",
    "            return 0;\n",
    "        \n",
    "        return self.getHeight(node.leftChild) - self.getHeight(node.rightChild);\n",
    "    \n",
    "    def rotateRight(self, node):\n",
    "        print(\"Rotating right\");\n",
    "        tempNode = node.leftChild;\n",
    "        \n",
    "        node.leftChild = tempNode.rightChild;\n",
    "        tempNode.rightChild = node;\n",
    "        node.height = max(self.getHeight(node.leftChild), self.getHeight(node.rightChild)) + 1;\n",
    "        tempNode.height = max(self.getHeight(tempNode.leftChild), self.getHeight(tempNode.rightChild)) + 1;\n",
    "        return tempNode;\n",
    "    \n",
    "    def rotateLeft(self, node):\n",
    "        print(\"Rotatingleft\");\n",
    "        tempNode = node.rightChild;\n",
    "        \n",
    "        node.rightChild = tempNode.leftChild;\n",
    "        \n",
    "        tempNode.leftChild = node;\n",
    "        \n",
    "        node.height = max(self.getHeight(node.leftChild), self.getHeight(node.rightChild)) + 1;\n",
    "        tempNode.height = max(self.getHeight(tempNode.leftChild), self.getHeight(tempNode.rightChild)) + 1;\n",
    "        return tempNode;\n",
    "    \n",
    "    \n",
    "    def insert(self, data):\n",
    "        self.root = self.insertNode(data, self.root)\n",
    "    \n",
    "    def insertNode(self, data, node):\n",
    "        if not node:\n",
    "            return Node(data);\n",
    "        \n",
    "        if data > node.data:\n",
    "            node.rightChild = self.insertNode(data, node.rightChild);\n",
    "            \n",
    "        else:\n",
    "            node.leftChild = self.insertNode(data, node.leftChild);\n",
    "            \n",
    "        node.height = max(self.getHeight(node.leftChild), self.getHeight(node.rightChild)) + 1 ;\n",
    "            \n",
    "        return self.settleViolation(data, node);\n",
    "    \n",
    "    def settleViolation(self, data, node):\n",
    "        \n",
    "        balance = self.calcBalance(node);\n",
    "        print(balance)\n",
    "        if balance > 1 and data < node.leftChild.data:\n",
    "            print(\"ll case\")\n",
    "            return self.rotateRight(node);\n",
    "        if balance < -1 and data > node.rightChild.data:\n",
    "            print(\"rr case\")\n",
    "            return self.rotateLeft(node);\n",
    "        \n",
    "        if balance > 1 and data > node.leftChild.data:\n",
    "            print(\"lr case\")\n",
    "            node.leftChild = self.rotateLeft(node.leftChild);\n",
    "            return self.rotateRight(node)\n",
    "            \n",
    "        if balance < -1 and data < node.rightChild.data:\n",
    "            print(\"rl case\")\n",
    "            node.rightChild = self.rotateRight(node.rightChild);\n",
    "            return self.rotateLeft(node);\n",
    "        \n",
    "        return node;\n",
    "    \n",
    "    def traverse(self):\n",
    "        if self.root:\n",
    "            self.InOrd(self.root);\n",
    "    def InOrd(self, node):\n",
    "        if node.leftChild:\n",
    "            self.InOrd(node.leftChild);\n",
    "        print(\"%fl\" % node.data);\n",
    "        \n",
    "        if node.rightChild:\n",
    "            self.InOrd(node.rightChild);\n",
    "    def remove(self, data):\n",
    "        if self.root:\n",
    "            self.root = self.removeNode(data, self.root);\n",
    "            \n",
    "    def removeNode(self, data, node):\n",
    "        if not node:\n",
    "            return None;\n",
    "        \n",
    "        if data > node.data:\n",
    "            node.rightChild = self.removeNode(data, node.rightChild);\n",
    "        elif data < node.data:\n",
    "            node.leftChild = self.removeNode(data, node.leftChild);\n",
    "        \n",
    "        else: \n",
    "            if node.leftChild and node.rightChild:\n",
    "                tempNode = self.getPredecessor(node.leftChild);\n",
    "                node.data = tempNode.data\n",
    "                node.leftChild = self.removeNode(tempNode.data, node.leftChild);\n",
    "                return node;\n",
    "            elif node.leftChild:\n",
    "                tempNode = node.leftChild;\n",
    "                del node;\n",
    "                return tempNode;\n",
    "            \n",
    "            elif node.rightChild:\n",
    "                tempNode = node.rightChild;\n",
    "                del node;\n",
    "                return tempNode;\n",
    "            else:\n",
    "                del node;\n",
    "                return None;\n",
    "            \n",
    "        if not node:\n",
    "            return None;\n",
    "        \n",
    "        node.height = max(self.getHeight(node.leftChild), self.getHeight(node.rightChild));\n",
    "        \n",
    "        \n",
    "        balance = self.calcBalance(node);\n",
    "        \n",
    "        if balance > 1 and self.calcBalance(node.leftChild) >= 0:\n",
    "            return self.rotateRight(node);\n",
    "        \n",
    "        if balance <- 1 and self.calcBalance(node.rightChild) <= 0:\n",
    "            return self.rotateLeft(node);\n",
    "        \n",
    "        if balance > 1 and self.calcBalance(node.leftChild) < 0:\n",
    "            node.leftChild = self.rotateLeft(node.leftChild);\n",
    "            return self.rotateRight(node);\n",
    "        \n",
    "        if balance < -1 and self.calcBalance(node.rightChild) > 0:\n",
    "            node.rightChild = self.rotateRight(node.rightChild);\n",
    "            return self.rotateLeft(node);\n",
    "            \n",
    "    def getPredecessor(self, node):\n",
    "        if node.rightChild:\n",
    "            self.getPredecessor(node.rightChild);\n",
    "            \n",
    "        return node\n",
    "        "
   ]
  },
  {
   "cell_type": "code",
   "execution_count": 122,
   "metadata": {},
   "outputs": [],
   "source": [
    "tree = AVL();"
   ]
  },
  {
   "cell_type": "code",
   "execution_count": 123,
   "metadata": {},
   "outputs": [],
   "source": [
    "tree.insert(1)"
   ]
  },
  {
   "cell_type": "code",
   "execution_count": 124,
   "metadata": {},
   "outputs": [
    {
     "name": "stdout",
     "output_type": "stream",
     "text": [
      "-1\n"
     ]
    }
   ],
   "source": [
    "tree.insert(2)"
   ]
  },
  {
   "cell_type": "code",
   "execution_count": 125,
   "metadata": {},
   "outputs": [
    {
     "name": "stdout",
     "output_type": "stream",
     "text": [
      "1.000000l\n",
      "2.000000l\n"
     ]
    }
   ],
   "source": [
    "tree.traverse();"
   ]
  },
  {
   "cell_type": "code",
   "execution_count": 126,
   "metadata": {},
   "outputs": [
    {
     "name": "stdout",
     "output_type": "stream",
     "text": [
      "-1\n",
      "-2\n",
      "rr case\n",
      "Rotatingleft\n"
     ]
    }
   ],
   "source": [
    "tree.insert(3);"
   ]
  },
  {
   "cell_type": "code",
   "execution_count": 127,
   "metadata": {},
   "outputs": [
    {
     "data": {
      "text/plain": [
       "2"
      ]
     },
     "execution_count": 127,
     "metadata": {},
     "output_type": "execute_result"
    }
   ],
   "source": [
    "tree.root.data\n"
   ]
  },
  {
   "cell_type": "code",
   "execution_count": 128,
   "metadata": {},
   "outputs": [
    {
     "name": "stdout",
     "output_type": "stream",
     "text": [
      "-1\n",
      "-1\n"
     ]
    }
   ],
   "source": [
    "tree.insert(4)"
   ]
  },
  {
   "cell_type": "code",
   "execution_count": 129,
   "metadata": {},
   "outputs": [
    {
     "name": "stdout",
     "output_type": "stream",
     "text": [
      "1.000000l\n",
      "2.000000l\n",
      "3.000000l\n",
      "4.000000l\n"
     ]
    }
   ],
   "source": [
    "tree.traverse()"
   ]
  },
  {
   "cell_type": "code",
   "execution_count": 130,
   "metadata": {},
   "outputs": [
    {
     "name": "stdout",
     "output_type": "stream",
     "text": [
      "1\n",
      "-2\n",
      "rl case\n",
      "Rotating right\n",
      "Rotatingleft\n",
      "-1\n"
     ]
    }
   ],
   "source": [
    "tree.insert(3.5)"
   ]
  },
  {
   "cell_type": "code",
   "execution_count": 131,
   "metadata": {},
   "outputs": [
    {
     "data": {
      "text/plain": [
       "3.5"
      ]
     },
     "execution_count": 131,
     "metadata": {},
     "output_type": "execute_result"
    }
   ],
   "source": [
    "tree.root.rightChild.data"
   ]
  },
  {
   "cell_type": "code",
   "execution_count": 132,
   "metadata": {},
   "outputs": [
    {
     "name": "stdout",
     "output_type": "stream",
     "text": [
      "1.000000l\n",
      "2.000000l\n",
      "3.000000l\n",
      "3.500000l\n",
      "4.000000l\n"
     ]
    }
   ],
   "source": [
    "tree.traverse()"
   ]
  },
  {
   "cell_type": "code",
   "execution_count": 133,
   "metadata": {},
   "outputs": [
    {
     "name": "stdout",
     "output_type": "stream",
     "text": [
      "Rotatingleft\n"
     ]
    }
   ],
   "source": [
    "tree.remove(1);"
   ]
  },
  {
   "cell_type": "code",
   "execution_count": 136,
   "metadata": {},
   "outputs": [
    {
     "data": {
      "text/plain": [
       "3"
      ]
     },
     "execution_count": 136,
     "metadata": {},
     "output_type": "execute_result"
    }
   ],
   "source": [
    "tree.root.leftChild.rightChild.data"
   ]
  },
  {
   "cell_type": "code",
   "execution_count": null,
   "metadata": {},
   "outputs": [],
   "source": []
  }
 ],
 "metadata": {
  "kernelspec": {
   "display_name": "Python 3",
   "language": "python",
   "name": "python3"
  },
  "language_info": {
   "codemirror_mode": {
    "name": "ipython",
    "version": 3
   },
   "file_extension": ".py",
   "mimetype": "text/x-python",
   "name": "python",
   "nbconvert_exporter": "python",
   "pygments_lexer": "ipython3",
   "version": "3.7.3"
  }
 },
 "nbformat": 4,
 "nbformat_minor": 2
}
