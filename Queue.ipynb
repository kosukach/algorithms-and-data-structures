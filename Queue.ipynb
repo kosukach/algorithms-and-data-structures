{
 "cells": [
  {
   "cell_type": "code",
   "execution_count": 2,
   "metadata": {},
   "outputs": [
    {
     "name": "stdout",
     "output_type": "stream",
     "text": [
      "32\n",
      "2\n"
     ]
    }
   ],
   "source": [
    "class Queue:\n",
    "    def __init__(self):\n",
    "        self.queue = [];\n",
    "        \n",
    "    def enqueue(self, data):\n",
    "        self.queue.append(data);\n",
    "    \n",
    "    def dequeue(self):\n",
    "        data = self.queue[0];\n",
    "        del self.queue[0];\n",
    "        return data;\n",
    "    \n",
    "    def peek(self):\n",
    "        return self.queue[0];\n",
    "     \n",
    "    def queueLenght(self):\n",
    "        return len(self.queue)\n",
    "\n",
    "queue1 = Queue();\n",
    "queue1.enqueue(1);\n",
    "queue1.enqueue(32);\n",
    "queue1.enqueue(4);\n",
    "\n",
    "queue1.dequeue();\n",
    "print(queue1.peek());\n",
    "print(queue1.queueLenght());  "
   ]
  },
  {
   "cell_type": "code",
   "execution_count": null,
   "metadata": {},
   "outputs": [],
   "source": []
  }
 ],
 "metadata": {
  "kernelspec": {
   "display_name": "Python 3",
   "language": "python",
   "name": "python3"
  },
  "language_info": {
   "codemirror_mode": {
    "name": "ipython",
    "version": 3
   },
   "file_extension": ".py",
   "mimetype": "text/x-python",
   "name": "python",
   "nbconvert_exporter": "python",
   "pygments_lexer": "ipython3",
   "version": "3.7.3"
  }
 },
 "nbformat": 4,
 "nbformat_minor": 2
}
