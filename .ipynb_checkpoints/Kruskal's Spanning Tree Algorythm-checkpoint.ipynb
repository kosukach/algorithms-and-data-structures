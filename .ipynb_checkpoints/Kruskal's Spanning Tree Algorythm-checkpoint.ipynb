{
 "cells": [
  {
   "cell_type": "code",
   "execution_count": 11,
   "metadata": {},
   "outputs": [],
   "source": [
    "class Node(object):\n",
    "    def __init__(self, name):\n",
    "        self.name = name;\n",
    "        self.parent = self;\n",
    "        self.rank = 0;\n",
    "    \n",
    "    def find(self):\n",
    "        if self.parent != self:\n",
    "            self.parent = self.parent.find();\n",
    "        return self.parent;\n",
    "    \n",
    "    def merge(self, other):\n",
    "        root1 = self.find();\n",
    "        root2 = other.find();\n",
    "        if root1 == root2:\n",
    "            return False;\n",
    "        if root1.rank > root2.rank:\n",
    "            root2.parent = root1;\n",
    "            \n",
    "        elif root1.rank < root2.rank:\n",
    "            self.parent = other;\n",
    "        else:\n",
    "            self.parent = other;\n",
    "            other.rank = other.rank + 1;\n",
    "        return True;\n",
    "class Vertex(object):\n",
    "    def __init__(self, name):\n",
    "        self.name = name;\n",
    "        self.node = Node(name);\n",
    "    \n",
    "class Edge(object):\n",
    "    \n",
    "    def __init__(self, weight, startVertex, endVertex):\n",
    "        self.startVertex = startVertex;\n",
    "        self.endVertex = endVertex;\n",
    "        self.weight = weight;\n",
    "        \n",
    "    def __cmp__(self, other):\n",
    "        return self.smp(self.weight, other.weigh);\n",
    "    \n",
    "    def __lt__(self, other):\n",
    "        return self.weight < other.weight;"
   ]
  },
  {
   "cell_type": "code",
   "execution_count": 12,
   "metadata": {},
   "outputs": [],
   "source": [
    "class KruskalAlgorythm(object):\n",
    "    \n",
    "    def createSpanningTree(self, edges):\n",
    "        edges.sort();\n",
    "        output = []\n",
    "        for edge in edges:\n",
    "            if edge.startVertex.node.merge(edge.endVertex.node):\n",
    "                output.append(edge);\n",
    "            \n",
    "        return output;\n",
    "        \n",
    "        "
   ]
  },
  {
   "cell_type": "code",
   "execution_count": 15,
   "metadata": {},
   "outputs": [],
   "source": [
    "vertex1 = Vertex(\"a\");\n",
    "vertex2 = Vertex(\"b\");\n",
    "vertex3 = Vertex(\"c\");\n",
    "vertex4 = Vertex(\"d\");\n",
    "vertex5 = Vertex(\"e\");\n",
    "vertex6 = Vertex(\"f\");\n",
    "vertex7 = Vertex(\"g\");\n",
    "\n",
    "edge1 = Edge(2,vertex1,vertex2);\n",
    "edge2 = Edge(6,vertex1,vertex3);\n",
    "edge3 = Edge(5,vertex1,vertex5);\n",
    "edge4 = Edge(10,vertex1,vertex6);\n",
    "edge5 = Edge(3,vertex2,vertex4);\n",
    "edge6 = Edge(3,vertex2,vertex5);\n",
    "edge7 = Edge(1,vertex3,vertex4);\n",
    "edge8 = Edge(2,vertex3,vertex6);\n",
    "edge9 = Edge(4,vertex4,vertex5);\n",
    "edge10 = Edge(5,vertex4,vertex7);\n",
    "edge11 = Edge(5,vertex6,vertex7);\n",
    "\n",
    "\n",
    "edgeList = [];\n",
    "edgeList.append(edge1);\n",
    "edgeList.append(edge2);\n",
    "edgeList.append(edge3);\n",
    "edgeList.append(edge4);\n",
    "edgeList.append(edge5);\n",
    "edgeList.append(edge6);\n",
    "edgeList.append(edge7);\n",
    "edgeList.append(edge8);\n",
    "edgeList.append(edge9);\n",
    "edgeList.append(edge10);\n",
    "edgeList.append(edge11);"
   ]
  },
  {
   "cell_type": "code",
   "execution_count": null,
   "metadata": {},
   "outputs": [],
   "source": [
    "ka = KruskalAlgorythm();\n",
    "%timeit output = ka.createSpanningTree(edgeList)"
   ]
  },
  {
   "cell_type": "code",
   "execution_count": 17,
   "metadata": {},
   "outputs": [
    {
     "data": {
      "text/plain": [
       "[<__main__.Edge at 0x50c6518>,\n",
       " <__main__.Edge at 0x50c6358>,\n",
       " <__main__.Edge at 0x50c6550>,\n",
       " <__main__.Edge at 0x50c64a8>,\n",
       " <__main__.Edge at 0x50c64e0>,\n",
       " <__main__.Edge at 0x50c65c0>]"
      ]
     },
     "execution_count": 17,
     "metadata": {},
     "output_type": "execute_result"
    }
   ],
   "source": [
    "output\n"
   ]
  },
  {
   "cell_type": "code",
   "execution_count": 19,
   "metadata": {},
   "outputs": [
    {
     "name": "stdout",
     "output_type": "stream",
     "text": [
      "c - d 1\n",
      "a - b 2\n",
      "c - f 2\n",
      "b - d 3\n",
      "b - e 3\n",
      "d - g 5\n"
     ]
    }
   ],
   "source": [
    "for edge in output:\n",
    "    print(edge.startVertex.name, \"-\", edge.endVertex.name, edge.weight)"
   ]
  },
  {
   "cell_type": "code",
   "execution_count": null,
   "metadata": {},
   "outputs": [],
   "source": []
  }
 ],
 "metadata": {
  "kernelspec": {
   "display_name": "Python 3",
   "language": "python",
   "name": "python3"
  },
  "language_info": {
   "codemirror_mode": {
    "name": "ipython",
    "version": 3
   },
   "file_extension": ".py",
   "mimetype": "text/x-python",
   "name": "python",
   "nbconvert_exporter": "python",
   "pygments_lexer": "ipython3",
   "version": "3.7.3"
  }
 },
 "nbformat": 4,
 "nbformat_minor": 2
}
