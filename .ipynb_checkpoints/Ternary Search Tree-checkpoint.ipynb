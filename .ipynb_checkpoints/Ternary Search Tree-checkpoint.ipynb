{
 "cells": [
  {
   "cell_type": "code",
   "execution_count": 115,
   "metadata": {},
   "outputs": [],
   "source": [
    "class Node(object):\n",
    "    def __init__(self, char):\n",
    "        self.char = char;\n",
    "        self.leftChild = None;\n",
    "        self.middleChild = None;\n",
    "        self.rightChild = None;\n",
    "        self.value = None;\n",
    "    \n",
    "class TST(object):\n",
    "    def __init__(self):\n",
    "        self.root = None;\n",
    "        \n",
    "    def put(self, key, value):\n",
    "        self.root = self.putNew(self.root, key, value);\n",
    "        \n",
    "    def putNew(self, node, key, value):\n",
    "        \n",
    "        if len(key) == 0:\n",
    "           \n",
    "            return;\n",
    "            \n",
    "        if not node:\n",
    "            node = Node(key[0]);\n",
    "            node.middleChild = self.putNew(node.middleChild, key[1:], value);\n",
    "            \n",
    "        else:\n",
    "            if node.char == key[0]:\n",
    "                node.middleChild = self.putNew(node.middleChild, key[1:], value);\n",
    "            \n",
    "            if key[0] > node.char:\n",
    "                node.rightChild = self.putNew(node.rightChild, key, value);\n",
    "                \n",
    "            else:\n",
    "                node.leftChild = self.putNew(node.leftChild, key, value);\n",
    "        \n",
    "        if len(key) == 1:\n",
    "            node.value = value;\n",
    "         \n",
    "        return node;\n",
    "    def get(self, key):\n",
    "        return self.getValue(self.root, key);\n",
    "        \n",
    "    def getValue(self, node, key):\n",
    "        \n",
    "        if len(key) == 1:\n",
    "            return node.value;\n",
    "            \n",
    "        if key[0] > node.char:\n",
    "            return self.getValue(node.rightChild, key);\n",
    "        elif key[0] < node.char:\n",
    "            return self.getValue(node.leftChild, key);\n",
    "        else:\n",
    "            return self.getValue(node.middleChild, key[1:]);"
   ]
  },
  {
   "cell_type": "code",
   "execution_count": 116,
   "metadata": {},
   "outputs": [],
   "source": [
    "tst = TST();"
   ]
  },
  {
   "cell_type": "code",
   "execution_count": 117,
   "metadata": {},
   "outputs": [],
   "source": [
    "tst.put(\"apple\", 10)"
   ]
  },
  {
   "cell_type": "code",
   "execution_count": 118,
   "metadata": {},
   "outputs": [],
   "source": [
    "tst.put(\"bean\", 12)"
   ]
  },
  {
   "cell_type": "code",
   "execution_count": 119,
   "metadata": {},
   "outputs": [
    {
     "data": {
      "text/plain": [
       "12"
      ]
     },
     "execution_count": 119,
     "metadata": {},
     "output_type": "execute_result"
    }
   ],
   "source": [
    "tst.root.rightChild.middleChild.middleChild.middleChild.value"
   ]
  },
  {
   "cell_type": "code",
   "execution_count": 120,
   "metadata": {},
   "outputs": [
    {
     "name": "stdout",
     "output_type": "stream",
     "text": [
      "10\n"
     ]
    }
   ],
   "source": [
    "print(tst.get(\"apple\"))"
   ]
  },
  {
   "cell_type": "code",
   "execution_count": null,
   "metadata": {},
   "outputs": [],
   "source": []
  },
  {
   "cell_type": "code",
   "execution_count": null,
   "metadata": {},
   "outputs": [],
   "source": []
  }
 ],
 "metadata": {
  "kernelspec": {
   "display_name": "Python 3",
   "language": "python",
   "name": "python3"
  },
  "language_info": {
   "codemirror_mode": {
    "name": "ipython",
    "version": 3
   },
   "file_extension": ".py",
   "mimetype": "text/x-python",
   "name": "python",
   "nbconvert_exporter": "python",
   "pygments_lexer": "ipython3",
   "version": "3.7.3"
  }
 },
 "nbformat": 4,
 "nbformat_minor": 2
}
