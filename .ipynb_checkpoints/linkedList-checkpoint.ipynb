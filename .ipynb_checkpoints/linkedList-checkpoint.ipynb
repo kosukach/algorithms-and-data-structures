{
 "cells": [
  {
   "cell_type": "code",
   "execution_count": 8,
   "metadata": {},
   "outputs": [],
   "source": [
    "class Node(object):\n",
    "    def __init__(self, data):\n",
    "        self.data = data;\n",
    "        self.nextNode = None;\n",
    "        \n",
    "        \n",
    "        \n",
    "class LinkedList(object):\n",
    "    def __init__(self):\n",
    "        self.head = None;\n",
    "        self.size = 0;\n",
    "    def insertStart(self, data):\n",
    "        #O(1)\n",
    "        self.size = self.size + 1;\n",
    "        newNode = Node(data);\n",
    "        newNode.nextNode = self.head;\n",
    "        self.head = newNode;\n",
    "    \n",
    "    def size(self):\n",
    "        #O(1)\n",
    "        return self.size;\n",
    "    def size2(self):\n",
    "        #O(N)\n",
    "        currentNode = self.head;\n",
    "        size = 0;\n",
    "        while currentNode is not None:\n",
    "            size = size + 1;\n",
    "            currentNode = currentNode.nextNode;\n",
    "        return size;\n",
    "    \n",
    "        \n",
    "    def traverse(self):\n",
    "        currentNode = self.head;\n",
    "        while currentNode.nextNode is not None:\n",
    "            print(\"%d\" % currentNode.data);\n",
    "            currentNode = currentNode.nextNode;\n",
    "        \n",
    "        \n",
    "    def insertEnd(self, data):\n",
    "        #O(N)\n",
    "        newNode = Node(data);\n",
    "        currentNode = self.head;\n",
    "        while currentNode.nextNode is not None:\n",
    "            currentNode = currentNode.nextNode;\n",
    "        currentNode.nextNode = newNode;\n",
    "        self.size = self.size + 1;\n",
    "    def remove(self, data):\n",
    "        if self.head is None:\n",
    "            return;\n",
    "        currentNode = self.head;\n",
    "        previousNode = None;\n",
    "        while currentNode.data != data:\n",
    "            previousNode = currentNode;\n",
    "            currentNode = currentNode.nextNode;\n",
    "            \n",
    "        if previousNode is None:    \n",
    "            slef.head = currentNode.nextNode;\n",
    "        else:\n",
    "            previousNode.nextNode = currentNode.nextNode;    \n",
    "        \n",
    "        \n",
    "        \n",
    "    "
   ]
  },
  {
   "cell_type": "code",
   "execution_count": 9,
   "metadata": {},
   "outputs": [],
   "source": [
    "linkedList = LinkedList();"
   ]
  },
  {
   "cell_type": "code",
   "execution_count": 11,
   "metadata": {},
   "outputs": [
    {
     "ename": "TypeError",
     "evalue": "insertStart() takes 1 positional argument but 2 were given",
     "output_type": "error",
     "traceback": [
      "\u001b[1;31m---------------------------------------------------------------------------\u001b[0m",
      "\u001b[1;31mTypeError\u001b[0m                                 Traceback (most recent call last)",
      "\u001b[1;32m<ipython-input-11-53c1547eb0de>\u001b[0m in \u001b[0;36m<module>\u001b[1;34m\u001b[0m\n\u001b[1;32m----> 1\u001b[1;33m \u001b[0mlinkedList\u001b[0m\u001b[1;33m.\u001b[0m\u001b[0minsertStart\u001b[0m\u001b[1;33m(\u001b[0m\u001b[1;36m12\u001b[0m\u001b[1;33m)\u001b[0m\u001b[1;33m;\u001b[0m\u001b[1;33m\u001b[0m\u001b[1;33m\u001b[0m\u001b[0m\n\u001b[0m",
      "\u001b[1;31mTypeError\u001b[0m: insertStart() takes 1 positional argument but 2 were given"
     ]
    }
   ],
   "source": [
    "linkedList.insertStart(12);"
   ]
  },
  {
   "cell_type": "code",
   "execution_count": null,
   "metadata": {},
   "outputs": [],
   "source": []
  },
  {
   "cell_type": "code",
   "execution_count": null,
   "metadata": {},
   "outputs": [],
   "source": []
  },
  {
   "cell_type": "code",
   "execution_count": null,
   "metadata": {},
   "outputs": [],
   "source": []
  }
 ],
 "metadata": {
  "kernelspec": {
   "display_name": "Python 3",
   "language": "python",
   "name": "python3"
  },
  "language_info": {
   "codemirror_mode": {
    "name": "ipython",
    "version": 3
   },
   "file_extension": ".py",
   "mimetype": "text/x-python",
   "name": "python",
   "nbconvert_exporter": "python",
   "pygments_lexer": "ipython3",
   "version": "3.7.3"
  }
 },
 "nbformat": 4,
 "nbformat_minor": 2
}
