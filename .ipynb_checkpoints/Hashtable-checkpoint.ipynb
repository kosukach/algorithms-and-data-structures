{
 "cells": [
  {
   "cell_type": "code",
   "execution_count": null,
   "metadata": {},
   "outputs": [],
   "source": [
    "class Hashtable(object):\n",
    "    def __init__(self):\n",
    "        self.size = 10;\n",
    "        self.keys = [None]*10;\n",
    "        self.values = [None]*10;\n",
    "        \n",
    "    def hashFunc(self, key):\n",
    "        count = 0;\n",
    "        for pos in range(len(key)):\n",
    "            count = count + ord(key[pos]) \n",
    "        \n",
    "        return count%self.size;    \n",
    "    \n",
    "    def put(self, key, value):\n",
    "        \n",
    "        index = self.hashFunc(key);\n",
    "        if not self.values[index]:\n",
    "            self.values[index] = value;\n",
    "        \n",
    "    def get(self, key):\n",
    "        index = self.hashFunc"
   ]
  }
 ],
 "metadata": {
  "kernelspec": {
   "display_name": "Python 3",
   "language": "python",
   "name": "python3"
  },
  "language_info": {
   "codemirror_mode": {
    "name": "ipython",
    "version": 3
   },
   "file_extension": ".py",
   "mimetype": "text/x-python",
   "name": "python",
   "nbconvert_exporter": "python",
   "pygments_lexer": "ipython3",
   "version": "3.7.3"
  }
 },
 "nbformat": 4,
 "nbformat_minor": 2
}
