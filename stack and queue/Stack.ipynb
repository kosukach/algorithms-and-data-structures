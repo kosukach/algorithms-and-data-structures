{
 "cells": [
  {
   "cell_type": "code",
   "execution_count": 2,
   "metadata": {},
   "outputs": [
    {
     "name": "stdout",
     "output_type": "stream",
     "text": [
      "5\n",
      "Popped 12\n",
      "Popped 6\n",
      "Peek 2\n",
      "size 3\n"
     ]
    }
   ],
   "source": [
    "class Stack:\n",
    "    \n",
    "    def __init__(self):\n",
    "        self.stack = [];\n",
    "    \n",
    "    \n",
    "    def isEmpty(self):\n",
    "        return len(self.stack) == 0;\n",
    "    \n",
    "    def push(self, data):\n",
    "        self.stack.append(data);\n",
    "        \n",
    "    def pop(self):\n",
    "        data = self.stack[-1];\n",
    "        del self.stack[-1];\n",
    "        return data;\n",
    "    \n",
    "    def peek(self):\n",
    "        return self.stack[-1];\n",
    "    \n",
    "    def sizeStack(self):\n",
    "        return len(self.stack);\n",
    "    \n",
    "stack = Stack();\n",
    "stack.push(1);\n",
    "stack.push(4);\n",
    "stack.push(2);\n",
    "stack.push(6);\n",
    "stack.push(12);\n",
    "print(stack.sizeStack());\n",
    "print(\"Popped\", stack.pop());\n",
    "print(\"Popped\", stack.pop());\n",
    "print(\"Peek\", stack.peek());\n",
    "print(\"size\", stack.sizeStack());\n",
    "    "
   ]
  },
  {
   "cell_type": "code",
   "execution_count": null,
   "metadata": {},
   "outputs": [],
   "source": []
  }
 ],
 "metadata": {
  "kernelspec": {
   "display_name": "Python 3",
   "language": "python",
   "name": "python3"
  },
  "language_info": {
   "codemirror_mode": {
    "name": "ipython",
    "version": 3
   },
   "file_extension": ".py",
   "mimetype": "text/x-python",
   "name": "python",
   "nbconvert_exporter": "python",
   "pygments_lexer": "ipython3",
   "version": "3.7.3"
  }
 },
 "nbformat": 4,
 "nbformat_minor": 2
}
