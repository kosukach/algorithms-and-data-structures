{
 "cells": [
  {
   "cell_type": "code",
   "execution_count": 37,
   "metadata": {},
   "outputs": [],
   "source": [
    "import sys;\n",
    "import heapq;\n",
    "\n",
    "\n",
    "\n",
    "class Edge(object):\n",
    "    \n",
    "    def __init__(self, weight, startVertex, endVertex):\n",
    "        self.weight = weight;\n",
    "        self.startVertex = startVertex\n",
    "        self.endVertex = endVertex;\n",
    "        \n",
    "class Node(object):\n",
    "    \n",
    "    def __init__(self, name):\n",
    "        self.name = name;\n",
    "        self.predecessor = None;\n",
    "        self.visited = False;\n",
    "        self.adjacenciesList = [];\n",
    "        self.minDistance = sys.maxsize;\n",
    "        \n",
    "    def __cmp__(self, other):\n",
    "        return cmp(self.minDistance, otherVertex.minDistance);\n",
    "    \n",
    "    \n",
    "    def __lt__(self, other):\n",
    "        \n",
    "        return self.minDistance < other.minDistance;\n",
    "    \n",
    "class BellmanFord(object):\n",
    "    \n",
    "    def calcMinDistance(self, edges, startVertex):\n",
    "        \n",
    "        startVertex.minDistance = 0;\n",
    "        for i in range(len(edges)-1):\n",
    "            for edge in edges:\n",
    "                \n",
    "                if edge.startVertex.minDistance + edge.weight < edge.endVertex.minDistance:\n",
    "                    edge.endVertex.minDistance = edge.startVertex.minDistance + edge.weight;\n",
    "                    edge.endVertex.predecessor = edge.startVertex;\n",
    "                    \n",
    "        for edge in edges:            \n",
    "            if edge.startVertex.minDistance + edge.weight < edge.endVertex.minDistance:\n",
    "                raise ValueError(\"Negative Loop Detected, Graph has no shortest path\");\n",
    "    \n",
    "    def getMinDistance(self, endVertex):\n",
    "        \n",
    "        node = endVertex;\n",
    "        print(node.name, node.minDistance)\n",
    "        while node is not None:\n",
    "            print(node.name);\n",
    "            node = node.predecessor;"
   ]
  },
  {
   "cell_type": "code",
   "execution_count": 44,
   "metadata": {},
   "outputs": [],
   "source": [
    "node1 = Node(\"A\");\n",
    "node2 = Node(\"B\");\n",
    "node3 = Node(\"C\");\n",
    "node4 = Node(\"D\");\n",
    "node5 = Node(\"E\");\n",
    "node6 = Node(\"F\");\n",
    "node7 = Node(\"G\");\n",
    "node8 = Node(\"H\");\n",
    "\n",
    "edge1 = Edge(5,node1,node2);\n",
    "edge2 = Edge(8,node1,node8);\n",
    "edge3 = Edge(9,node1,node5);\n",
    "edge4 = Edge(15,node2,node4);\n",
    "edge5 = Edge(12,node2,node3);\n",
    "edge6 = Edge(4,node2,node8);\n",
    "edge7 = Edge(7,node8,node3);\n",
    "edge8 = Edge(6,node8,node6);\n",
    "edge9 = Edge(5,node5,node8);\n",
    "edge10 = Edge(4,node5,node6);\n",
    "edge11 = Edge(20,node5,node7);\n",
    "edge12 = Edge(1,node6,node3);\n",
    "edge13 = Edge(13,node6,node7);\n",
    "edge14 = Edge(3,node3,node4);\n",
    "edge15 = Edge(11,node3,node7);\n",
    "edge16 = Edge(9,node4,node7);\n",
    "\n",
    "edge17 = Edge(1,node1,node2);\n",
    "edge18 = Edge(1,node2,node3);\n",
    "edge19 = Edge(-3,node3,node1);\n",
    "\n",
    "node1.adjacenciesList.append(edge1);\n",
    "node1.adjacenciesList.append(edge2);\n",
    "node1.adjacenciesList.append(edge3);\n",
    "node2.adjacenciesList.append(edge4);\n",
    "node2.adjacenciesList.append(edge5);\n",
    "node2.adjacenciesList.append(edge6);\n",
    "node8.adjacenciesList.append(edge7);\n",
    "node8.adjacenciesList.append(edge8);\n",
    "node5.adjacenciesList.append(edge9);\n",
    "node5.adjacenciesList.append(edge10);\n",
    "node5.adjacenciesList.append(edge11);\n",
    "node6.adjacenciesList.append(edge12);\n",
    "node6.adjacenciesList.append(edge13);\n",
    "node3.adjacenciesList.append(edge14);\n",
    "node3.adjacenciesList.append(edge15);\n",
    "node4.adjacenciesList.append(edge16);\n",
    "\n",
    "\n",
    "vertexList = (node1,node2,node3, node4, node5, node6, node7, node8);\n",
    "#edgeList = (edge1,edge2,edge3,edge4,edge5,edge6,edge7,edge8,edge9,edge10,edge11,edge12,edge13,edge14,edge15,edge16);\n",
    "edgeList = (edge17, edge18, edge19);"
   ]
  },
  {
   "cell_type": "code",
   "execution_count": 45,
   "metadata": {},
   "outputs": [],
   "source": [
    "bmf = BellmanFord()"
   ]
  },
  {
   "cell_type": "code",
   "execution_count": 46,
   "metadata": {},
   "outputs": [
    {
     "ename": "ValueError",
     "evalue": "Negative Loop Detected, Graph has no shortest path",
     "output_type": "error",
     "traceback": [
      "\u001b[1;31m---------------------------------------------------------------------------\u001b[0m",
      "\u001b[1;31mValueError\u001b[0m                                Traceback (most recent call last)",
      "\u001b[1;32m<ipython-input-46-d31171ac87cc>\u001b[0m in \u001b[0;36m<module>\u001b[1;34m\u001b[0m\n\u001b[1;32m----> 1\u001b[1;33m \u001b[0mbmf\u001b[0m\u001b[1;33m.\u001b[0m\u001b[0mcalcMinDistance\u001b[0m\u001b[1;33m(\u001b[0m\u001b[0medgeList\u001b[0m\u001b[1;33m,\u001b[0m \u001b[0mnode1\u001b[0m\u001b[1;33m)\u001b[0m\u001b[1;33m;\u001b[0m\u001b[1;33m\u001b[0m\u001b[1;33m\u001b[0m\u001b[0m\n\u001b[0m",
      "\u001b[1;32m<ipython-input-37-54e6f96e55e8>\u001b[0m in \u001b[0;36mcalcMinDistance\u001b[1;34m(self, edges, startVertex)\u001b[0m\n\u001b[0;32m     42\u001b[0m         \u001b[1;32mfor\u001b[0m \u001b[0medge\u001b[0m \u001b[1;32min\u001b[0m \u001b[0medges\u001b[0m\u001b[1;33m:\u001b[0m\u001b[1;33m\u001b[0m\u001b[1;33m\u001b[0m\u001b[0m\n\u001b[0;32m     43\u001b[0m             \u001b[1;32mif\u001b[0m \u001b[0medge\u001b[0m\u001b[1;33m.\u001b[0m\u001b[0mstartVertex\u001b[0m\u001b[1;33m.\u001b[0m\u001b[0mminDistance\u001b[0m \u001b[1;33m+\u001b[0m \u001b[0medge\u001b[0m\u001b[1;33m.\u001b[0m\u001b[0mweight\u001b[0m \u001b[1;33m<\u001b[0m \u001b[0medge\u001b[0m\u001b[1;33m.\u001b[0m\u001b[0mendVertex\u001b[0m\u001b[1;33m.\u001b[0m\u001b[0mminDistance\u001b[0m\u001b[1;33m:\u001b[0m\u001b[1;33m\u001b[0m\u001b[1;33m\u001b[0m\u001b[0m\n\u001b[1;32m---> 44\u001b[1;33m                 \u001b[1;32mraise\u001b[0m \u001b[0mValueError\u001b[0m\u001b[1;33m(\u001b[0m\u001b[1;34m\"Negative Loop Detected, Graph has no shortest path\"\u001b[0m\u001b[1;33m)\u001b[0m\u001b[1;33m;\u001b[0m\u001b[1;33m\u001b[0m\u001b[1;33m\u001b[0m\u001b[0m\n\u001b[0m\u001b[0;32m     45\u001b[0m \u001b[1;33m\u001b[0m\u001b[0m\n\u001b[0;32m     46\u001b[0m     \u001b[1;32mdef\u001b[0m \u001b[0mgetMinDistance\u001b[0m\u001b[1;33m(\u001b[0m\u001b[0mself\u001b[0m\u001b[1;33m,\u001b[0m \u001b[0mendVertex\u001b[0m\u001b[1;33m)\u001b[0m\u001b[1;33m:\u001b[0m\u001b[1;33m\u001b[0m\u001b[1;33m\u001b[0m\u001b[0m\n",
      "\u001b[1;31mValueError\u001b[0m: Negative Loop Detected, Graph has no shortest path"
     ]
    }
   ],
   "source": [
    "bmf.calcMinDistance(edgeList, node1);"
   ]
  },
  {
   "cell_type": "code",
   "execution_count": 47,
   "metadata": {},
   "outputs": [
    {
     "name": "stdout",
     "output_type": "stream",
     "text": [
      "G 9223372036854775807\n",
      "G\n"
     ]
    }
   ],
   "source": [
    "bmf.getMinDistance(node7)"
   ]
  },
  {
   "cell_type": "code",
   "execution_count": null,
   "metadata": {},
   "outputs": [],
   "source": []
  }
 ],
 "metadata": {
  "kernelspec": {
   "display_name": "Python 3",
   "language": "python",
   "name": "python3"
  },
  "language_info": {
   "codemirror_mode": {
    "name": "ipython",
    "version": 3
   },
   "file_extension": ".py",
   "mimetype": "text/x-python",
   "name": "python",
   "nbconvert_exporter": "python",
   "pygments_lexer": "ipython3",
   "version": "3.7.3"
  }
 },
 "nbformat": 4,
 "nbformat_minor": 2
}
